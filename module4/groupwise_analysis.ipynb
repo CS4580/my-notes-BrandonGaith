{
 "cells": [
  {
   "cell_type": "markdown",
   "metadata": {},
   "source": [
    "## Group wise Analysis"
   ]
  },
  {
   "cell_type": "code",
   "execution_count": null,
   "metadata": {},
   "outputs": [
    {
     "ename": "",
     "evalue": "",
     "output_type": "error",
     "traceback": [
      "\u001b[1;31mRunning cells with 'module4 (Python 3.12.5)' requires the ipykernel package.\n",
      "\u001b[1;31mRun the following command to install 'ipykernel' into the Python environment. \n",
      "\u001b[1;31mCommand: 'conda install -n module4 ipykernel --update-deps --force-reinstall'"
     ]
    }
   ],
   "source": [
    "import pandas as pd\n",
    "# Load data\n",
    "reviews_df = pd.read_csv('..data/winemag-data-130k-v2.csv')"
   ]
  },
  {
   "cell_type": "code",
   "execution_count": null,
   "metadata": {},
   "outputs": [],
   "source": [
    "# Create a group of reviews of the points of each wine\n",
    "reviews_df.groupby('points').points.count()\n",
    "\n",
    "# value_counts() is just a shortcut to the groupby()"
   ]
  },
  {
   "cell_type": "code",
   "execution_count": null,
   "metadata": {},
   "outputs": [],
   "source": [
    "# Get the Cheapest wine in each point value category\n",
    "reviews_df.groupby('points').price.min()"
   ]
  },
  {
   "cell_type": "code",
   "execution_count": null,
   "metadata": {},
   "outputs": [],
   "source": [
    "# Use the apply() method to access the DataFrame filter data\n",
    "reviews_df.groupby('winery').apply(lambda df: df.title.iloc[0])"
   ]
  },
  {
   "cell_type": "code",
   "execution_count": null,
   "metadata": {},
   "outputs": [],
   "source": [
    "# more fine-grained control you can group by more than one column\n",
    "# Get the best wine by country AND providence\n",
    "reviews_df.groupby['country', 'providence'].apply(lambda df: df.loc[df.points.idmax()])"
   ]
  },
  {
   "cell_type": "code",
   "execution_count": null,
   "metadata": {},
   "outputs": [],
   "source": [
    "# Use the agg() function to run a lot of different function in your DataFrame\n",
    "reviews_df.groupby(['country']).price.agg([len, 'min', 'max'])"
   ]
  },
  {
   "cell_type": "markdown",
   "metadata": {},
   "source": [
    "## Multi-Indexes"
   ]
  },
  {
   "cell_type": "code",
   "execution_count": null,
   "metadata": {},
   "outputs": [],
   "source": [
    "# Multi-Indexes differs from regular index in that is multiple levels\n",
    "country_reviewed = reviews_df.groupby(['country', 'province']).description.agg([len])\n",
    "\n",
    "mi = country_reviewed.index # Check how many indexes you have in df\n",
    "print(type(mi))\n",
    "print(country_reviewed)"
   ]
  },
  {
   "cell_type": "code",
   "execution_count": null,
   "metadata": {},
   "outputs": [],
   "source": [
    "# You need to reset the index and add it back into the multi-index df\n",
    "country_reviewed.reset_index()"
   ]
  },
  {
   "cell_type": "code",
   "execution_count": null,
   "metadata": {},
   "outputs": [],
   "source": [
    "# Sort by value\n",
    "country_reviewed = country_reviewed.reset_index()\n",
    "# Default is ascending = True \n",
    "country_reviewed.sort_values(by='len')"
   ]
  }
 ],
 "metadata": {
  "kernelspec": {
   "display_name": "module4",
   "language": "python",
   "name": "python3"
  },
  "language_info": {
   "name": "python",
   "version": "3.12.5"
  }
 },
 "nbformat": 4,
 "nbformat_minor": 2
}
